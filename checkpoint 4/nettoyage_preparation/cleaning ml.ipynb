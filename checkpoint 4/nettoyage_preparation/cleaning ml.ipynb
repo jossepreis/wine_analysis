{
 "cells": [
  {
   "cell_type": "code",
   "execution_count": 15,
   "metadata": {},
   "outputs": [],
   "source": [
    "import pandas as pd"
   ]
  },
  {
   "cell_type": "code",
   "execution_count": 16,
   "metadata": {},
   "outputs": [],
   "source": [
    "link = r\"C:\\Users\\josse\\OneDrive\\Bureau\\checkpoint 4\\csv\\date.csv\"\n",
    "df = pd.read_csv(link)\n",
    "df.drop('Unnamed: 0',axis=1,inplace=True)\n",
    "df_ml = df[df['year']!='no year']\n",
    "df_ml_clean = df_ml[ df_ml['price'].notna()]\n",
    "df_ml_clean = df_ml_clean.astype({'year': int})"
   ]
  },
  {
   "cell_type": "code",
   "execution_count": 17,
   "metadata": {},
   "outputs": [],
   "source": [
    "df_ml_clean.to_csv(r'C:\\Users\\josse\\OneDrive\\Bureau\\checkpoint 4\\csv\\csv_ml.csv')"
   ]
  },
  {
   "cell_type": "code",
   "execution_count": 18,
   "metadata": {},
   "outputs": [],
   "source": [
    "link = r\"C:\\Users\\josse\\OneDrive\\Bureau\\checkpoint 4\\csv\\croix_date.csv\"\n",
    "df_croix = pd.read_csv(link)\n",
    "df_croix.drop('Unnamed: 0',axis=1,inplace=True)\n",
    "df_croix = df_croix[df_croix['year']!='no year']\n",
    "df_croix = df_croix.astype({'year': int})"
   ]
  },
  {
   "cell_type": "code",
   "execution_count": 19,
   "metadata": {},
   "outputs": [],
   "source": [
    "df_croix.to_csv(r'C:\\Users\\josse\\OneDrive\\Bureau\\checkpoint 4\\csv\\csv_croix.csv')"
   ]
  }
 ],
 "metadata": {
  "interpreter": {
   "hash": "be0acc8b5e9c514370efa701a19078e441337db182ef74130e57d9d0b7902eba"
  },
  "kernelspec": {
   "display_name": "Python 3.8.12 64-bit ('base': conda)",
   "language": "python",
   "name": "python3"
  },
  "language_info": {
   "codemirror_mode": {
    "name": "ipython",
    "version": 3
   },
   "file_extension": ".py",
   "mimetype": "text/x-python",
   "name": "python",
   "nbconvert_exporter": "python",
   "pygments_lexer": "ipython3",
   "version": "3.8.12"
  },
  "orig_nbformat": 4
 },
 "nbformat": 4,
 "nbformat_minor": 2
}
