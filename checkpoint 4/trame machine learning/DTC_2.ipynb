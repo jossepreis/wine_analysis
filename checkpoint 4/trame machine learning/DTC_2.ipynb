{
 "cells": [
  {
   "cell_type": "code",
   "execution_count": 11,
   "metadata": {},
   "outputs": [],
   "source": [
    "import numpy as np\n",
    "import pandas as pd\n",
    "from sklearn.preprocessing import StandardScaler\n",
    "from sklearn.model_selection import train_test_split\n",
    "from sklearn.tree import DecisionTreeRegressor\n",
    "from sklearn.model_selection import GridSearchCV\n",
    "import plotly.express as px"
   ]
  },
  {
   "cell_type": "code",
   "execution_count": 12,
   "metadata": {},
   "outputs": [],
   "source": [
    "link = r\"C:\\Users\\josse\\OneDrive\\Documents\\GitHub\\checkpoint_4\\checkpoint 4\\csv\\csv_ml.csv\"\n",
    "df = pd.read_csv(link)\n",
    "df.drop('Unnamed: 0',axis=1,inplace=True)\n",
    "\n",
    "link = r\"C:\\Users\\josse\\OneDrive\\Documents\\GitHub\\checkpoint_4\\checkpoint 4\\csv\\csv_croix.csv\"\n",
    "df_croix = pd.read_csv(link)\n",
    "df_croix.drop('Unnamed: 0',axis=1,inplace=True)"
   ]
  },
  {
   "cell_type": "code",
   "execution_count": 13,
   "metadata": {},
   "outputs": [],
   "source": [
    "list_variety = df['variety'].value_counts().index.tolist()[:10]\n",
    "list_country = df['country'].value_counts().index.tolist()[:10]"
   ]
  },
  {
   "cell_type": "code",
   "execution_count": 14,
   "metadata": {},
   "outputs": [
    {
     "name": "stderr",
     "output_type": "stream",
     "text": [
      "C:\\Users\\josse\\AppData\\Local\\Temp/ipykernel_24348/250517493.py:2: SettingWithCopyWarning:\n",
      "\n",
      "\n",
      "A value is trying to be set on a copy of a slice from a DataFrame.\n",
      "Try using .loc[row_indexer,col_indexer] = value instead\n",
      "\n",
      "See the caveats in the documentation: https://pandas.pydata.org/pandas-docs/stable/user_guide/indexing.html#returning-a-view-versus-a-copy\n",
      "\n"
     ]
    }
   ],
   "source": [
    "new_df = df[(df['variety'].isin(list_variety))|(df['country'].isin(list_country))]\n",
    "new_df['flag'] = False\n",
    "df_croix['flag']= True\n",
    "\n",
    "df_concat = pd.concat([new_df,df_croix],axis=0)\n",
    "\n",
    "df_concat['variety']=df_concat['variety'].factorize()[0]\n",
    "df_concat['country']=df_concat['country'].factorize()[0]"
   ]
  },
  {
   "cell_type": "code",
   "execution_count": 15,
   "metadata": {},
   "outputs": [],
   "source": [
    "df_train = df_concat[df_concat['flag']==False]\n",
    "df_suggestion =df_concat[df_concat['flag']==True]"
   ]
  },
  {
   "cell_type": "code",
   "execution_count": 16,
   "metadata": {},
   "outputs": [],
   "source": [
    "X1=df_train[['points','year','variety','country']]\n",
    "X2 =df_suggestion[['points','year','variety','country']]\n",
    "y1=df_train['price']\n",
    "\n",
    "X1_train, X1_test, y1_train, y1_test = train_test_split(X1, y1, random_state=2,train_size = 0.75)"
   ]
  },
  {
   "cell_type": "code",
   "execution_count": 17,
   "metadata": {},
   "outputs": [
    {
     "name": "stdout",
     "output_type": "stream",
     "text": [
      "best score: 0.3316692752596112\n",
      "best parameters: {'max_depth': 7}\n"
     ]
    }
   ],
   "source": [
    "dico = {'max_depth' : range(1,50)}\n",
    "grid = GridSearchCV(DecisionTreeRegressor(), dico )\n",
    "grid.fit(X1_train,y1_train)\n",
    "print(\"best score:\",grid.best_score_)\n",
    "print(\"best parameters:\",grid.best_params_)"
   ]
  },
  {
   "cell_type": "code",
   "execution_count": 18,
   "metadata": {},
   "outputs": [
    {
     "name": "stdout",
     "output_type": "stream",
     "text": [
      "0.3968645863058138\n",
      "0.3126424903983057\n"
     ]
    }
   ],
   "source": [
    "modelDTC = DecisionTreeRegressor(max_depth=7)\n",
    "modelDTC.fit(X1_train, y1_train)\n",
    "print(modelDTC.score(X1_train,y1_train))\n",
    "print(modelDTC.score(X1_test,y1_test))\n",
    "suggestion2 = df_croix.copy()\n",
    "suggestion2['price'] = modelDTC.predict(X2)"
   ]
  },
  {
   "cell_type": "code",
   "execution_count": 19,
   "metadata": {},
   "outputs": [
    {
     "data": {
      "application/vnd.plotly.v1+json": {
       "config": {
        "plotlyServerURL": "https://plot.ly"
       },
       "data": [
        {
         "hovertemplate": "points=%{x}<br>price=%{y}<extra></extra>",
         "legendgroup": "",
         "marker": {
          "color": "#636efa",
          "symbol": "circle"
         },
         "mode": "markers",
         "name": "",
         "orientation": "v",
         "showlegend": false,
         "type": "scatter",
         "x": [
          94,
          94,
          90,
          90,
          94,
          90,
          93,
          95,
          95,
          94,
          93,
          92,
          95,
          92
         ],
         "xaxis": "x",
         "y": [
          82.226,
          82.226,
          51.72741481713035,
          40.27804878048781,
          82.226,
          51.72741481713035,
          57.488008342022944,
          304.3720930232558,
          304.3720930232558,
          82.226,
          57.488008342022944,
          60.56170531039641,
          169.6549707602339,
          54.62982005141388
         ],
         "yaxis": "y"
        }
       ],
       "layout": {
        "height": 500,
        "legend": {
         "tracegroupgap": 0
        },
        "margin": {
         "t": 60
        },
        "template": {
         "data": {
          "bar": [
           {
            "error_x": {
             "color": "#f2f5fa"
            },
            "error_y": {
             "color": "#f2f5fa"
            },
            "marker": {
             "line": {
              "color": "rgb(17,17,17)",
              "width": 0.5
             },
             "pattern": {
              "fillmode": "overlay",
              "size": 10,
              "solidity": 0.2
             }
            },
            "type": "bar"
           }
          ],
          "barpolar": [
           {
            "marker": {
             "line": {
              "color": "rgb(17,17,17)",
              "width": 0.5
             },
             "pattern": {
              "fillmode": "overlay",
              "size": 10,
              "solidity": 0.2
             }
            },
            "type": "barpolar"
           }
          ],
          "carpet": [
           {
            "aaxis": {
             "endlinecolor": "#A2B1C6",
             "gridcolor": "#506784",
             "linecolor": "#506784",
             "minorgridcolor": "#506784",
             "startlinecolor": "#A2B1C6"
            },
            "baxis": {
             "endlinecolor": "#A2B1C6",
             "gridcolor": "#506784",
             "linecolor": "#506784",
             "minorgridcolor": "#506784",
             "startlinecolor": "#A2B1C6"
            },
            "type": "carpet"
           }
          ],
          "choropleth": [
           {
            "colorbar": {
             "outlinewidth": 0,
             "ticks": ""
            },
            "type": "choropleth"
           }
          ],
          "contour": [
           {
            "colorbar": {
             "outlinewidth": 0,
             "ticks": ""
            },
            "colorscale": [
             [
              0,
              "#0d0887"
             ],
             [
              0.1111111111111111,
              "#46039f"
             ],
             [
              0.2222222222222222,
              "#7201a8"
             ],
             [
              0.3333333333333333,
              "#9c179e"
             ],
             [
              0.4444444444444444,
              "#bd3786"
             ],
             [
              0.5555555555555556,
              "#d8576b"
             ],
             [
              0.6666666666666666,
              "#ed7953"
             ],
             [
              0.7777777777777778,
              "#fb9f3a"
             ],
             [
              0.8888888888888888,
              "#fdca26"
             ],
             [
              1,
              "#f0f921"
             ]
            ],
            "type": "contour"
           }
          ],
          "contourcarpet": [
           {
            "colorbar": {
             "outlinewidth": 0,
             "ticks": ""
            },
            "type": "contourcarpet"
           }
          ],
          "heatmap": [
           {
            "colorbar": {
             "outlinewidth": 0,
             "ticks": ""
            },
            "colorscale": [
             [
              0,
              "#0d0887"
             ],
             [
              0.1111111111111111,
              "#46039f"
             ],
             [
              0.2222222222222222,
              "#7201a8"
             ],
             [
              0.3333333333333333,
              "#9c179e"
             ],
             [
              0.4444444444444444,
              "#bd3786"
             ],
             [
              0.5555555555555556,
              "#d8576b"
             ],
             [
              0.6666666666666666,
              "#ed7953"
             ],
             [
              0.7777777777777778,
              "#fb9f3a"
             ],
             [
              0.8888888888888888,
              "#fdca26"
             ],
             [
              1,
              "#f0f921"
             ]
            ],
            "type": "heatmap"
           }
          ],
          "heatmapgl": [
           {
            "colorbar": {
             "outlinewidth": 0,
             "ticks": ""
            },
            "colorscale": [
             [
              0,
              "#0d0887"
             ],
             [
              0.1111111111111111,
              "#46039f"
             ],
             [
              0.2222222222222222,
              "#7201a8"
             ],
             [
              0.3333333333333333,
              "#9c179e"
             ],
             [
              0.4444444444444444,
              "#bd3786"
             ],
             [
              0.5555555555555556,
              "#d8576b"
             ],
             [
              0.6666666666666666,
              "#ed7953"
             ],
             [
              0.7777777777777778,
              "#fb9f3a"
             ],
             [
              0.8888888888888888,
              "#fdca26"
             ],
             [
              1,
              "#f0f921"
             ]
            ],
            "type": "heatmapgl"
           }
          ],
          "histogram": [
           {
            "marker": {
             "pattern": {
              "fillmode": "overlay",
              "size": 10,
              "solidity": 0.2
             }
            },
            "type": "histogram"
           }
          ],
          "histogram2d": [
           {
            "colorbar": {
             "outlinewidth": 0,
             "ticks": ""
            },
            "colorscale": [
             [
              0,
              "#0d0887"
             ],
             [
              0.1111111111111111,
              "#46039f"
             ],
             [
              0.2222222222222222,
              "#7201a8"
             ],
             [
              0.3333333333333333,
              "#9c179e"
             ],
             [
              0.4444444444444444,
              "#bd3786"
             ],
             [
              0.5555555555555556,
              "#d8576b"
             ],
             [
              0.6666666666666666,
              "#ed7953"
             ],
             [
              0.7777777777777778,
              "#fb9f3a"
             ],
             [
              0.8888888888888888,
              "#fdca26"
             ],
             [
              1,
              "#f0f921"
             ]
            ],
            "type": "histogram2d"
           }
          ],
          "histogram2dcontour": [
           {
            "colorbar": {
             "outlinewidth": 0,
             "ticks": ""
            },
            "colorscale": [
             [
              0,
              "#0d0887"
             ],
             [
              0.1111111111111111,
              "#46039f"
             ],
             [
              0.2222222222222222,
              "#7201a8"
             ],
             [
              0.3333333333333333,
              "#9c179e"
             ],
             [
              0.4444444444444444,
              "#bd3786"
             ],
             [
              0.5555555555555556,
              "#d8576b"
             ],
             [
              0.6666666666666666,
              "#ed7953"
             ],
             [
              0.7777777777777778,
              "#fb9f3a"
             ],
             [
              0.8888888888888888,
              "#fdca26"
             ],
             [
              1,
              "#f0f921"
             ]
            ],
            "type": "histogram2dcontour"
           }
          ],
          "mesh3d": [
           {
            "colorbar": {
             "outlinewidth": 0,
             "ticks": ""
            },
            "type": "mesh3d"
           }
          ],
          "parcoords": [
           {
            "line": {
             "colorbar": {
              "outlinewidth": 0,
              "ticks": ""
             }
            },
            "type": "parcoords"
           }
          ],
          "pie": [
           {
            "automargin": true,
            "type": "pie"
           }
          ],
          "scatter": [
           {
            "marker": {
             "line": {
              "color": "#283442"
             }
            },
            "type": "scatter"
           }
          ],
          "scatter3d": [
           {
            "line": {
             "colorbar": {
              "outlinewidth": 0,
              "ticks": ""
             }
            },
            "marker": {
             "colorbar": {
              "outlinewidth": 0,
              "ticks": ""
             }
            },
            "type": "scatter3d"
           }
          ],
          "scattercarpet": [
           {
            "marker": {
             "colorbar": {
              "outlinewidth": 0,
              "ticks": ""
             }
            },
            "type": "scattercarpet"
           }
          ],
          "scattergeo": [
           {
            "marker": {
             "colorbar": {
              "outlinewidth": 0,
              "ticks": ""
             }
            },
            "type": "scattergeo"
           }
          ],
          "scattergl": [
           {
            "marker": {
             "line": {
              "color": "#283442"
             }
            },
            "type": "scattergl"
           }
          ],
          "scattermapbox": [
           {
            "marker": {
             "colorbar": {
              "outlinewidth": 0,
              "ticks": ""
             }
            },
            "type": "scattermapbox"
           }
          ],
          "scatterpolar": [
           {
            "marker": {
             "colorbar": {
              "outlinewidth": 0,
              "ticks": ""
             }
            },
            "type": "scatterpolar"
           }
          ],
          "scatterpolargl": [
           {
            "marker": {
             "colorbar": {
              "outlinewidth": 0,
              "ticks": ""
             }
            },
            "type": "scatterpolargl"
           }
          ],
          "scatterternary": [
           {
            "marker": {
             "colorbar": {
              "outlinewidth": 0,
              "ticks": ""
             }
            },
            "type": "scatterternary"
           }
          ],
          "surface": [
           {
            "colorbar": {
             "outlinewidth": 0,
             "ticks": ""
            },
            "colorscale": [
             [
              0,
              "#0d0887"
             ],
             [
              0.1111111111111111,
              "#46039f"
             ],
             [
              0.2222222222222222,
              "#7201a8"
             ],
             [
              0.3333333333333333,
              "#9c179e"
             ],
             [
              0.4444444444444444,
              "#bd3786"
             ],
             [
              0.5555555555555556,
              "#d8576b"
             ],
             [
              0.6666666666666666,
              "#ed7953"
             ],
             [
              0.7777777777777778,
              "#fb9f3a"
             ],
             [
              0.8888888888888888,
              "#fdca26"
             ],
             [
              1,
              "#f0f921"
             ]
            ],
            "type": "surface"
           }
          ],
          "table": [
           {
            "cells": {
             "fill": {
              "color": "#506784"
             },
             "line": {
              "color": "rgb(17,17,17)"
             }
            },
            "header": {
             "fill": {
              "color": "#2a3f5f"
             },
             "line": {
              "color": "rgb(17,17,17)"
             }
            },
            "type": "table"
           }
          ]
         },
         "layout": {
          "annotationdefaults": {
           "arrowcolor": "#f2f5fa",
           "arrowhead": 0,
           "arrowwidth": 1
          },
          "autotypenumbers": "strict",
          "coloraxis": {
           "colorbar": {
            "outlinewidth": 0,
            "ticks": ""
           }
          },
          "colorscale": {
           "diverging": [
            [
             0,
             "#8e0152"
            ],
            [
             0.1,
             "#c51b7d"
            ],
            [
             0.2,
             "#de77ae"
            ],
            [
             0.3,
             "#f1b6da"
            ],
            [
             0.4,
             "#fde0ef"
            ],
            [
             0.5,
             "#f7f7f7"
            ],
            [
             0.6,
             "#e6f5d0"
            ],
            [
             0.7,
             "#b8e186"
            ],
            [
             0.8,
             "#7fbc41"
            ],
            [
             0.9,
             "#4d9221"
            ],
            [
             1,
             "#276419"
            ]
           ],
           "sequential": [
            [
             0,
             "#0d0887"
            ],
            [
             0.1111111111111111,
             "#46039f"
            ],
            [
             0.2222222222222222,
             "#7201a8"
            ],
            [
             0.3333333333333333,
             "#9c179e"
            ],
            [
             0.4444444444444444,
             "#bd3786"
            ],
            [
             0.5555555555555556,
             "#d8576b"
            ],
            [
             0.6666666666666666,
             "#ed7953"
            ],
            [
             0.7777777777777778,
             "#fb9f3a"
            ],
            [
             0.8888888888888888,
             "#fdca26"
            ],
            [
             1,
             "#f0f921"
            ]
           ],
           "sequentialminus": [
            [
             0,
             "#0d0887"
            ],
            [
             0.1111111111111111,
             "#46039f"
            ],
            [
             0.2222222222222222,
             "#7201a8"
            ],
            [
             0.3333333333333333,
             "#9c179e"
            ],
            [
             0.4444444444444444,
             "#bd3786"
            ],
            [
             0.5555555555555556,
             "#d8576b"
            ],
            [
             0.6666666666666666,
             "#ed7953"
            ],
            [
             0.7777777777777778,
             "#fb9f3a"
            ],
            [
             0.8888888888888888,
             "#fdca26"
            ],
            [
             1,
             "#f0f921"
            ]
           ]
          },
          "colorway": [
           "#636efa",
           "#EF553B",
           "#00cc96",
           "#ab63fa",
           "#FFA15A",
           "#19d3f3",
           "#FF6692",
           "#B6E880",
           "#FF97FF",
           "#FECB52"
          ],
          "font": {
           "color": "#f2f5fa"
          },
          "geo": {
           "bgcolor": "rgb(17,17,17)",
           "lakecolor": "rgb(17,17,17)",
           "landcolor": "rgb(17,17,17)",
           "showlakes": true,
           "showland": true,
           "subunitcolor": "#506784"
          },
          "hoverlabel": {
           "align": "left"
          },
          "hovermode": "closest",
          "mapbox": {
           "style": "dark"
          },
          "paper_bgcolor": "rgb(17,17,17)",
          "plot_bgcolor": "rgb(17,17,17)",
          "polar": {
           "angularaxis": {
            "gridcolor": "#506784",
            "linecolor": "#506784",
            "ticks": ""
           },
           "bgcolor": "rgb(17,17,17)",
           "radialaxis": {
            "gridcolor": "#506784",
            "linecolor": "#506784",
            "ticks": ""
           }
          },
          "scene": {
           "xaxis": {
            "backgroundcolor": "rgb(17,17,17)",
            "gridcolor": "#506784",
            "gridwidth": 2,
            "linecolor": "#506784",
            "showbackground": true,
            "ticks": "",
            "zerolinecolor": "#C8D4E3"
           },
           "yaxis": {
            "backgroundcolor": "rgb(17,17,17)",
            "gridcolor": "#506784",
            "gridwidth": 2,
            "linecolor": "#506784",
            "showbackground": true,
            "ticks": "",
            "zerolinecolor": "#C8D4E3"
           },
           "zaxis": {
            "backgroundcolor": "rgb(17,17,17)",
            "gridcolor": "#506784",
            "gridwidth": 2,
            "linecolor": "#506784",
            "showbackground": true,
            "ticks": "",
            "zerolinecolor": "#C8D4E3"
           }
          },
          "shapedefaults": {
           "line": {
            "color": "#f2f5fa"
           }
          },
          "sliderdefaults": {
           "bgcolor": "#C8D4E3",
           "bordercolor": "rgb(17,17,17)",
           "borderwidth": 1,
           "tickwidth": 0
          },
          "ternary": {
           "aaxis": {
            "gridcolor": "#506784",
            "linecolor": "#506784",
            "ticks": ""
           },
           "baxis": {
            "gridcolor": "#506784",
            "linecolor": "#506784",
            "ticks": ""
           },
           "bgcolor": "rgb(17,17,17)",
           "caxis": {
            "gridcolor": "#506784",
            "linecolor": "#506784",
            "ticks": ""
           }
          },
          "title": {
           "x": 0.05
          },
          "updatemenudefaults": {
           "bgcolor": "#506784",
           "borderwidth": 0
          },
          "xaxis": {
           "automargin": true,
           "gridcolor": "#283442",
           "linecolor": "#506784",
           "ticks": "",
           "title": {
            "standoff": 15
           },
           "zerolinecolor": "#283442",
           "zerolinewidth": 2
          },
          "yaxis": {
           "automargin": true,
           "gridcolor": "#283442",
           "linecolor": "#506784",
           "ticks": "",
           "title": {
            "standoff": 15
           },
           "zerolinecolor": "#283442",
           "zerolinewidth": 2
          }
         }
        },
        "title": {
         "text": "suggestion 2 : price by points"
        },
        "width": 800,
        "xaxis": {
         "anchor": "y",
         "domain": [
          0,
          1
         ],
         "title": {
          "text": "points"
         }
        },
        "yaxis": {
         "anchor": "x",
         "domain": [
          0,
          1
         ],
         "title": {
          "text": "price"
         }
        }
       }
      }
     },
     "metadata": {},
     "output_type": "display_data"
    }
   ],
   "source": [
    "fig_suggestion2 = px.scatter(data_frame=suggestion2,x='points',y='price')\n",
    "\n",
    "fig_suggestion2.update_layout(template='plotly_dark', title='suggestion 2 : price by points' ,height = 500,width=800)\n",
    "fig_suggestion2.show()"
   ]
  },
  {
   "cell_type": "code",
   "execution_count": 20,
   "metadata": {},
   "outputs": [
    {
     "data": {
      "text/html": [
       "<div>\n",
       "<style scoped>\n",
       "    .dataframe tbody tr th:only-of-type {\n",
       "        vertical-align: middle;\n",
       "    }\n",
       "\n",
       "    .dataframe tbody tr th {\n",
       "        vertical-align: top;\n",
       "    }\n",
       "\n",
       "    .dataframe thead th {\n",
       "        text-align: right;\n",
       "    }\n",
       "</style>\n",
       "<table border=\"1\" class=\"dataframe\">\n",
       "  <thead>\n",
       "    <tr style=\"text-align: right;\">\n",
       "      <th></th>\n",
       "      <th>country</th>\n",
       "      <th>description</th>\n",
       "      <th>designation</th>\n",
       "      <th>points</th>\n",
       "      <th>price</th>\n",
       "      <th>province</th>\n",
       "      <th>region_1</th>\n",
       "      <th>region_2</th>\n",
       "      <th>taster_name</th>\n",
       "      <th>taster_twitter_handle</th>\n",
       "      <th>title</th>\n",
       "      <th>variety</th>\n",
       "      <th>winery</th>\n",
       "      <th>year</th>\n",
       "      <th>flag</th>\n",
       "    </tr>\n",
       "  </thead>\n",
       "  <tbody>\n",
       "    <tr>\n",
       "      <th>0</th>\n",
       "      <td>France</td>\n",
       "      <td>Firm and solid with great swathes of black fru...</td>\n",
       "      <td>NaN</td>\n",
       "      <td>94</td>\n",
       "      <td>82.226000</td>\n",
       "      <td>Burgundy</td>\n",
       "      <td>Corton Grèves</td>\n",
       "      <td>NaN</td>\n",
       "      <td>Roger Voss</td>\n",
       "      <td>@vossroger</td>\n",
       "      <td>Domaine des Croix 2016  Corton Grèves</td>\n",
       "      <td>Pinot Noir</td>\n",
       "      <td>Domaine des Croix</td>\n",
       "      <td>2016</td>\n",
       "      <td>True</td>\n",
       "    </tr>\n",
       "    <tr>\n",
       "      <th>1</th>\n",
       "      <td>France</td>\n",
       "      <td>A rich wine with great fruits as well as struc...</td>\n",
       "      <td>La Vigne au Saint</td>\n",
       "      <td>94</td>\n",
       "      <td>82.226000</td>\n",
       "      <td>Burgundy</td>\n",
       "      <td>Corton</td>\n",
       "      <td>NaN</td>\n",
       "      <td>Roger Voss</td>\n",
       "      <td>@vossroger</td>\n",
       "      <td>Domaine des Croix 2017 La Vigne au Saint  (Cor...</td>\n",
       "      <td>Pinot Noir</td>\n",
       "      <td>Domaine des Croix</td>\n",
       "      <td>2017</td>\n",
       "      <td>True</td>\n",
       "    </tr>\n",
       "    <tr>\n",
       "      <th>2</th>\n",
       "      <td>France</td>\n",
       "      <td>A perfumed village wine, this is made from fou...</td>\n",
       "      <td>NaN</td>\n",
       "      <td>90</td>\n",
       "      <td>51.727415</td>\n",
       "      <td>Burgundy</td>\n",
       "      <td>Beaune</td>\n",
       "      <td>NaN</td>\n",
       "      <td>Roger Voss</td>\n",
       "      <td>@vossroger</td>\n",
       "      <td>Domaine des Croix 2016  Beaune</td>\n",
       "      <td>Pinot Noir</td>\n",
       "      <td>Domaine des Croix</td>\n",
       "      <td>2016</td>\n",
       "      <td>True</td>\n",
       "    </tr>\n",
       "    <tr>\n",
       "      <th>3</th>\n",
       "      <td>France</td>\n",
       "      <td>A structured wine, packed with red fruits and ...</td>\n",
       "      <td>NaN</td>\n",
       "      <td>90</td>\n",
       "      <td>40.278049</td>\n",
       "      <td>Burgundy</td>\n",
       "      <td>Beaune</td>\n",
       "      <td>NaN</td>\n",
       "      <td>Roger Voss</td>\n",
       "      <td>@vossroger</td>\n",
       "      <td>Domaine des Croix 2019  Beaune</td>\n",
       "      <td>Pinot Noir</td>\n",
       "      <td>Domaine des Croix</td>\n",
       "      <td>2019</td>\n",
       "      <td>True</td>\n",
       "    </tr>\n",
       "    <tr>\n",
       "      <th>4</th>\n",
       "      <td>France</td>\n",
       "      <td>This wine is perfumed with cherries and red be...</td>\n",
       "      <td>Les Grèves Premier Cru</td>\n",
       "      <td>94</td>\n",
       "      <td>82.226000</td>\n",
       "      <td>Burgundy</td>\n",
       "      <td>Beaune</td>\n",
       "      <td>NaN</td>\n",
       "      <td>Roger Voss</td>\n",
       "      <td>@vossroger</td>\n",
       "      <td>Domaine des Croix 2017 Les Grèves Premier Cru ...</td>\n",
       "      <td>Pinot Noir</td>\n",
       "      <td>Domaine des Croix</td>\n",
       "      <td>2017</td>\n",
       "      <td>True</td>\n",
       "    </tr>\n",
       "    <tr>\n",
       "      <th>5</th>\n",
       "      <td>France</td>\n",
       "      <td>A structured wine, packed with red fruits and ...</td>\n",
       "      <td>NaN</td>\n",
       "      <td>90</td>\n",
       "      <td>51.727415</td>\n",
       "      <td>Burgundy</td>\n",
       "      <td>Beaune</td>\n",
       "      <td>NaN</td>\n",
       "      <td>Roger Voss</td>\n",
       "      <td>@vossroger</td>\n",
       "      <td>Domaine des Croix 2015  Beaune</td>\n",
       "      <td>Pinot Noir</td>\n",
       "      <td>Domaine des Croix</td>\n",
       "      <td>2015</td>\n",
       "      <td>True</td>\n",
       "    </tr>\n",
       "    <tr>\n",
       "      <th>6</th>\n",
       "      <td>France</td>\n",
       "      <td>While this wine is firm, with some fine tannin...</td>\n",
       "      <td>Les Cent-Vignes Premier Cru</td>\n",
       "      <td>93</td>\n",
       "      <td>57.488008</td>\n",
       "      <td>Burgundy</td>\n",
       "      <td>Beaune</td>\n",
       "      <td>NaN</td>\n",
       "      <td>Roger Voss</td>\n",
       "      <td>@vossroger</td>\n",
       "      <td>Domaine des Croix 2018 Les Cent-Vignes Premier...</td>\n",
       "      <td>Pinot Noir</td>\n",
       "      <td>Domaine des Croix</td>\n",
       "      <td>2018</td>\n",
       "      <td>True</td>\n",
       "    </tr>\n",
       "    <tr>\n",
       "      <th>7</th>\n",
       "      <td>France</td>\n",
       "      <td>This wine has a smoky character that gives an ...</td>\n",
       "      <td>Grèves</td>\n",
       "      <td>95</td>\n",
       "      <td>304.372093</td>\n",
       "      <td>Burgundy</td>\n",
       "      <td>Corton</td>\n",
       "      <td>NaN</td>\n",
       "      <td>Roger Voss</td>\n",
       "      <td>@vossroger</td>\n",
       "      <td>Domaine des Croix 2016 Grèves  (Corton)</td>\n",
       "      <td>Pinot Noir</td>\n",
       "      <td>Domaine des Croix</td>\n",
       "      <td>2016</td>\n",
       "      <td>True</td>\n",
       "    </tr>\n",
       "    <tr>\n",
       "      <th>8</th>\n",
       "      <td>France</td>\n",
       "      <td>Dark fruit backs up the dense, dark and firm c...</td>\n",
       "      <td>La Vigne au Saint</td>\n",
       "      <td>95</td>\n",
       "      <td>304.372093</td>\n",
       "      <td>Burgundy</td>\n",
       "      <td>Corton</td>\n",
       "      <td>NaN</td>\n",
       "      <td>Roger Voss</td>\n",
       "      <td>@vossroger</td>\n",
       "      <td>Domaine des Croix 2018 La Vigne au Saint  (Cor...</td>\n",
       "      <td>Pinot Noir</td>\n",
       "      <td>Domaine des Croix</td>\n",
       "      <td>2018</td>\n",
       "      <td>True</td>\n",
       "    </tr>\n",
       "    <tr>\n",
       "      <th>9</th>\n",
       "      <td>France</td>\n",
       "      <td>A fine, mineral, structured wine with a very d...</td>\n",
       "      <td>Bressandes Premier Cru</td>\n",
       "      <td>94</td>\n",
       "      <td>82.226000</td>\n",
       "      <td>Burgundy</td>\n",
       "      <td>Beaune</td>\n",
       "      <td>NaN</td>\n",
       "      <td>Roger Voss</td>\n",
       "      <td>@vossroger</td>\n",
       "      <td>Domaine des Croix 2019 Bressandes Premier Cru ...</td>\n",
       "      <td>Pinot Noir</td>\n",
       "      <td>Domaine des Croix</td>\n",
       "      <td>2019</td>\n",
       "      <td>True</td>\n",
       "    </tr>\n",
       "    <tr>\n",
       "      <th>10</th>\n",
       "      <td>France</td>\n",
       "      <td>From one of the top Beaune premier-cru vineyar...</td>\n",
       "      <td>Les Bressandes Premier Cru</td>\n",
       "      <td>93</td>\n",
       "      <td>57.488008</td>\n",
       "      <td>Burgundy</td>\n",
       "      <td>Beaune</td>\n",
       "      <td>NaN</td>\n",
       "      <td>Roger Voss</td>\n",
       "      <td>@vossroger</td>\n",
       "      <td>Domaine des Croix 2018 Les Bressandes Premier ...</td>\n",
       "      <td>Pinot Noir</td>\n",
       "      <td>Domaine des Croix</td>\n",
       "      <td>2018</td>\n",
       "      <td>True</td>\n",
       "    </tr>\n",
       "    <tr>\n",
       "      <th>11</th>\n",
       "      <td>France</td>\n",
       "      <td>Made from fruit sourced from a small premier c...</td>\n",
       "      <td>Pertuisots Premier Cru</td>\n",
       "      <td>92</td>\n",
       "      <td>60.561705</td>\n",
       "      <td>Burgundy</td>\n",
       "      <td>Beaune</td>\n",
       "      <td>NaN</td>\n",
       "      <td>Roger Voss</td>\n",
       "      <td>@vossroger</td>\n",
       "      <td>Domaine des Croix 2014 Pertuisots Premier Cru ...</td>\n",
       "      <td>Pinot Noir</td>\n",
       "      <td>Domaine des Croix</td>\n",
       "      <td>2014</td>\n",
       "      <td>True</td>\n",
       "    </tr>\n",
       "    <tr>\n",
       "      <th>12</th>\n",
       "      <td>France</td>\n",
       "      <td>A dry, mineral wine, hiding its potential rich...</td>\n",
       "      <td>NaN</td>\n",
       "      <td>95</td>\n",
       "      <td>169.654971</td>\n",
       "      <td>Burgundy</td>\n",
       "      <td>Corton-Charlemagne</td>\n",
       "      <td>NaN</td>\n",
       "      <td>Roger Voss</td>\n",
       "      <td>@vossroger</td>\n",
       "      <td>Domaine des Croix 2014  Corton-Charlemagne</td>\n",
       "      <td>Chardonnay</td>\n",
       "      <td>Domaine des Croix</td>\n",
       "      <td>2014</td>\n",
       "      <td>True</td>\n",
       "    </tr>\n",
       "    <tr>\n",
       "      <th>13</th>\n",
       "      <td>France</td>\n",
       "      <td>This wine has firm tannins and a dry, structur...</td>\n",
       "      <td>Les Peuillets Premier Cru</td>\n",
       "      <td>92</td>\n",
       "      <td>54.629820</td>\n",
       "      <td>Burgundy</td>\n",
       "      <td>Savigny-lès-Beaune</td>\n",
       "      <td>NaN</td>\n",
       "      <td>Roger Voss</td>\n",
       "      <td>@vossroger</td>\n",
       "      <td>Domaine des Croix 2018 Les Peuillets Premier C...</td>\n",
       "      <td>Pinot Noir</td>\n",
       "      <td>Domaine des Croix</td>\n",
       "      <td>2018</td>\n",
       "      <td>True</td>\n",
       "    </tr>\n",
       "  </tbody>\n",
       "</table>\n",
       "</div>"
      ],
      "text/plain": [
       "   country                                        description  \\\n",
       "0   France  Firm and solid with great swathes of black fru...   \n",
       "1   France  A rich wine with great fruits as well as struc...   \n",
       "2   France  A perfumed village wine, this is made from fou...   \n",
       "3   France  A structured wine, packed with red fruits and ...   \n",
       "4   France  This wine is perfumed with cherries and red be...   \n",
       "5   France  A structured wine, packed with red fruits and ...   \n",
       "6   France  While this wine is firm, with some fine tannin...   \n",
       "7   France  This wine has a smoky character that gives an ...   \n",
       "8   France  Dark fruit backs up the dense, dark and firm c...   \n",
       "9   France  A fine, mineral, structured wine with a very d...   \n",
       "10  France  From one of the top Beaune premier-cru vineyar...   \n",
       "11  France  Made from fruit sourced from a small premier c...   \n",
       "12  France  A dry, mineral wine, hiding its potential rich...   \n",
       "13  France  This wine has firm tannins and a dry, structur...   \n",
       "\n",
       "                    designation  points       price  province  \\\n",
       "0                           NaN      94   82.226000  Burgundy   \n",
       "1             La Vigne au Saint      94   82.226000  Burgundy   \n",
       "2                           NaN      90   51.727415  Burgundy   \n",
       "3                           NaN      90   40.278049  Burgundy   \n",
       "4        Les Grèves Premier Cru      94   82.226000  Burgundy   \n",
       "5                           NaN      90   51.727415  Burgundy   \n",
       "6   Les Cent-Vignes Premier Cru      93   57.488008  Burgundy   \n",
       "7                        Grèves      95  304.372093  Burgundy   \n",
       "8             La Vigne au Saint      95  304.372093  Burgundy   \n",
       "9        Bressandes Premier Cru      94   82.226000  Burgundy   \n",
       "10   Les Bressandes Premier Cru      93   57.488008  Burgundy   \n",
       "11       Pertuisots Premier Cru      92   60.561705  Burgundy   \n",
       "12                          NaN      95  169.654971  Burgundy   \n",
       "13    Les Peuillets Premier Cru      92   54.629820  Burgundy   \n",
       "\n",
       "              region_1  region_2 taster_name taster_twitter_handle  \\\n",
       "0        Corton Grèves       NaN  Roger Voss            @vossroger   \n",
       "1               Corton       NaN  Roger Voss            @vossroger   \n",
       "2               Beaune       NaN  Roger Voss            @vossroger   \n",
       "3               Beaune       NaN  Roger Voss            @vossroger   \n",
       "4               Beaune       NaN  Roger Voss            @vossroger   \n",
       "5               Beaune       NaN  Roger Voss            @vossroger   \n",
       "6               Beaune       NaN  Roger Voss            @vossroger   \n",
       "7               Corton       NaN  Roger Voss            @vossroger   \n",
       "8               Corton       NaN  Roger Voss            @vossroger   \n",
       "9               Beaune       NaN  Roger Voss            @vossroger   \n",
       "10              Beaune       NaN  Roger Voss            @vossroger   \n",
       "11              Beaune       NaN  Roger Voss            @vossroger   \n",
       "12  Corton-Charlemagne       NaN  Roger Voss            @vossroger   \n",
       "13  Savigny-lès-Beaune       NaN  Roger Voss            @vossroger   \n",
       "\n",
       "                                                title     variety  \\\n",
       "0               Domaine des Croix 2016  Corton Grèves  Pinot Noir   \n",
       "1   Domaine des Croix 2017 La Vigne au Saint  (Cor...  Pinot Noir   \n",
       "2                      Domaine des Croix 2016  Beaune  Pinot Noir   \n",
       "3                      Domaine des Croix 2019  Beaune  Pinot Noir   \n",
       "4   Domaine des Croix 2017 Les Grèves Premier Cru ...  Pinot Noir   \n",
       "5                      Domaine des Croix 2015  Beaune  Pinot Noir   \n",
       "6   Domaine des Croix 2018 Les Cent-Vignes Premier...  Pinot Noir   \n",
       "7             Domaine des Croix 2016 Grèves  (Corton)  Pinot Noir   \n",
       "8   Domaine des Croix 2018 La Vigne au Saint  (Cor...  Pinot Noir   \n",
       "9   Domaine des Croix 2019 Bressandes Premier Cru ...  Pinot Noir   \n",
       "10  Domaine des Croix 2018 Les Bressandes Premier ...  Pinot Noir   \n",
       "11  Domaine des Croix 2014 Pertuisots Premier Cru ...  Pinot Noir   \n",
       "12         Domaine des Croix 2014  Corton-Charlemagne  Chardonnay   \n",
       "13  Domaine des Croix 2018 Les Peuillets Premier C...  Pinot Noir   \n",
       "\n",
       "               winery  year  flag  \n",
       "0   Domaine des Croix  2016  True  \n",
       "1   Domaine des Croix  2017  True  \n",
       "2   Domaine des Croix  2016  True  \n",
       "3   Domaine des Croix  2019  True  \n",
       "4   Domaine des Croix  2017  True  \n",
       "5   Domaine des Croix  2015  True  \n",
       "6   Domaine des Croix  2018  True  \n",
       "7   Domaine des Croix  2016  True  \n",
       "8   Domaine des Croix  2018  True  \n",
       "9   Domaine des Croix  2019  True  \n",
       "10  Domaine des Croix  2018  True  \n",
       "11  Domaine des Croix  2014  True  \n",
       "12  Domaine des Croix  2014  True  \n",
       "13  Domaine des Croix  2018  True  "
      ]
     },
     "execution_count": 20,
     "metadata": {},
     "output_type": "execute_result"
    }
   ],
   "source": [
    "suggestion2"
   ]
  }
 ],
 "metadata": {
  "interpreter": {
   "hash": "be0acc8b5e9c514370efa701a19078e441337db182ef74130e57d9d0b7902eba"
  },
  "kernelspec": {
   "display_name": "Python 3.8.12 64-bit ('base': conda)",
   "language": "python",
   "name": "python3"
  },
  "language_info": {
   "codemirror_mode": {
    "name": "ipython",
    "version": 3
   },
   "file_extension": ".py",
   "mimetype": "text/x-python",
   "name": "python",
   "nbconvert_exporter": "python",
   "pygments_lexer": "ipython3",
   "version": "3.8.12"
  },
  "orig_nbformat": 4
 },
 "nbformat": 4,
 "nbformat_minor": 2
}
