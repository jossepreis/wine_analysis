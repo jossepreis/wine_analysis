{
 "cells": [
  {
   "cell_type": "code",
   "execution_count": 325,
   "metadata": {},
   "outputs": [
    {
     "name": "stderr",
     "output_type": "stream",
     "text": [
      "[nltk_data] Downloading collection 'popular'\n",
      "[nltk_data]    | \n",
      "[nltk_data]    | Downloading package cmudict to\n",
      "[nltk_data]    |     C:\\Users\\josse\\AppData\\Roaming\\nltk_data...\n",
      "[nltk_data]    |   Package cmudict is already up-to-date!\n",
      "[nltk_data]    | Downloading package gazetteers to\n",
      "[nltk_data]    |     C:\\Users\\josse\\AppData\\Roaming\\nltk_data...\n",
      "[nltk_data]    |   Package gazetteers is already up-to-date!\n",
      "[nltk_data]    | Downloading package genesis to\n",
      "[nltk_data]    |     C:\\Users\\josse\\AppData\\Roaming\\nltk_data...\n",
      "[nltk_data]    |   Package genesis is already up-to-date!\n",
      "[nltk_data]    | Downloading package gutenberg to\n",
      "[nltk_data]    |     C:\\Users\\josse\\AppData\\Roaming\\nltk_data...\n",
      "[nltk_data]    |   Package gutenberg is already up-to-date!\n",
      "[nltk_data]    | Downloading package inaugural to\n",
      "[nltk_data]    |     C:\\Users\\josse\\AppData\\Roaming\\nltk_data...\n",
      "[nltk_data]    |   Package inaugural is already up-to-date!\n",
      "[nltk_data]    | Downloading package movie_reviews to\n",
      "[nltk_data]    |     C:\\Users\\josse\\AppData\\Roaming\\nltk_data...\n",
      "[nltk_data]    |   Package movie_reviews is already up-to-date!\n",
      "[nltk_data]    | Downloading package names to\n",
      "[nltk_data]    |     C:\\Users\\josse\\AppData\\Roaming\\nltk_data...\n",
      "[nltk_data]    |   Package names is already up-to-date!\n",
      "[nltk_data]    | Downloading package shakespeare to\n",
      "[nltk_data]    |     C:\\Users\\josse\\AppData\\Roaming\\nltk_data...\n",
      "[nltk_data]    |   Package shakespeare is already up-to-date!\n",
      "[nltk_data]    | Downloading package stopwords to\n",
      "[nltk_data]    |     C:\\Users\\josse\\AppData\\Roaming\\nltk_data...\n",
      "[nltk_data]    |   Package stopwords is already up-to-date!\n",
      "[nltk_data]    | Downloading package treebank to\n",
      "[nltk_data]    |     C:\\Users\\josse\\AppData\\Roaming\\nltk_data...\n",
      "[nltk_data]    |   Package treebank is already up-to-date!\n",
      "[nltk_data]    | Downloading package twitter_samples to\n",
      "[nltk_data]    |     C:\\Users\\josse\\AppData\\Roaming\\nltk_data...\n",
      "[nltk_data]    |   Package twitter_samples is already up-to-date!\n",
      "[nltk_data]    | Downloading package omw to\n",
      "[nltk_data]    |     C:\\Users\\josse\\AppData\\Roaming\\nltk_data...\n",
      "[nltk_data]    |   Package omw is already up-to-date!\n",
      "[nltk_data]    | Downloading package omw-1.4 to\n",
      "[nltk_data]    |     C:\\Users\\josse\\AppData\\Roaming\\nltk_data...\n",
      "[nltk_data]    |   Package omw-1.4 is already up-to-date!\n",
      "[nltk_data]    | Downloading package wordnet to\n",
      "[nltk_data]    |     C:\\Users\\josse\\AppData\\Roaming\\nltk_data...\n",
      "[nltk_data]    |   Package wordnet is already up-to-date!\n",
      "[nltk_data]    | Downloading package wordnet2021 to\n",
      "[nltk_data]    |     C:\\Users\\josse\\AppData\\Roaming\\nltk_data...\n",
      "[nltk_data]    |   Package wordnet2021 is already up-to-date!\n",
      "[nltk_data]    | Downloading package wordnet31 to\n",
      "[nltk_data]    |     C:\\Users\\josse\\AppData\\Roaming\\nltk_data...\n",
      "[nltk_data]    |   Package wordnet31 is already up-to-date!\n",
      "[nltk_data]    | Downloading package wordnet_ic to\n",
      "[nltk_data]    |     C:\\Users\\josse\\AppData\\Roaming\\nltk_data...\n",
      "[nltk_data]    |   Package wordnet_ic is already up-to-date!\n",
      "[nltk_data]    | Downloading package words to\n",
      "[nltk_data]    |     C:\\Users\\josse\\AppData\\Roaming\\nltk_data...\n",
      "[nltk_data]    |   Package words is already up-to-date!\n",
      "[nltk_data]    | Downloading package maxent_ne_chunker to\n",
      "[nltk_data]    |     C:\\Users\\josse\\AppData\\Roaming\\nltk_data...\n",
      "[nltk_data]    |   Package maxent_ne_chunker is already up-to-date!\n",
      "[nltk_data]    | Downloading package punkt to\n",
      "[nltk_data]    |     C:\\Users\\josse\\AppData\\Roaming\\nltk_data...\n",
      "[nltk_data]    |   Package punkt is already up-to-date!\n",
      "[nltk_data]    | Downloading package snowball_data to\n",
      "[nltk_data]    |     C:\\Users\\josse\\AppData\\Roaming\\nltk_data...\n",
      "[nltk_data]    |   Package snowball_data is already up-to-date!\n",
      "[nltk_data]    | Downloading package averaged_perceptron_tagger to\n",
      "[nltk_data]    |     C:\\Users\\josse\\AppData\\Roaming\\nltk_data...\n",
      "[nltk_data]    |   Package averaged_perceptron_tagger is already up-\n",
      "[nltk_data]    |       to-date!\n",
      "[nltk_data]    | \n",
      "[nltk_data]  Done downloading collection popular\n"
     ]
    },
    {
     "data": {
      "text/plain": [
       "True"
      ]
     },
     "execution_count": 325,
     "metadata": {},
     "output_type": "execute_result"
    }
   ],
   "source": [
    "import numpy as np\n",
    "import pandas as pd\n",
    "from sklearn.preprocessing import StandardScaler\n",
    "from sklearn.model_selection import train_test_split\n",
    "from sklearn.tree import DecisionTreeRegressor\n",
    "from sklearn.model_selection import GridSearchCV\n",
    "import re\n",
    "import nltk\n",
    "import plotly.express as px\n",
    "nltk.download('popular')"
   ]
  },
  {
   "cell_type": "code",
   "execution_count": 326,
   "metadata": {},
   "outputs": [],
   "source": [
    "link = r\"C:\\Users\\josse\\OneDrive\\Documents\\GitHub\\checkpoint_4\\checkpoint 4\\csv\\csv_ml.csv\"\n",
    "df = pd.read_csv(link)\n",
    "df.drop('Unnamed: 0',axis=1,inplace=True)\n",
    "df_pinot = df[(df['variety']=='Pinot Noir')&(df['price']<=1000)]\n",
    "df_chardonnay = df[(df['variety']=='Chardonnay')&(df['price']<=1000)]\n",
    "\n",
    "link = r\"C:\\Users\\josse\\OneDrive\\Documents\\GitHub\\checkpoint_4\\checkpoint 4\\csv\\csv_croix.csv\"\n",
    "df_croix = pd.read_csv(link)\n",
    "df_croix.drop('Unnamed: 0',axis=1,inplace=True)\n",
    "df_croix_pinot = df_croix[df_croix['variety']=='Pinot Noir']\n",
    "df_croix_chardonnay = df_croix[df_croix['variety']=='Chardonnay']"
   ]
  },
  {
   "cell_type": "code",
   "execution_count": 327,
   "metadata": {},
   "outputs": [
    {
     "name": "stderr",
     "output_type": "stream",
     "text": [
      "C:\\Users\\josse\\AppData\\Local\\Temp/ipykernel_48956/3111603952.py:1: SettingWithCopyWarning:\n",
      "\n",
      "\n",
      "A value is trying to be set on a copy of a slice from a DataFrame.\n",
      "Try using .loc[row_indexer,col_indexer] = value instead\n",
      "\n",
      "See the caveats in the documentation: https://pandas.pydata.org/pandas-docs/stable/user_guide/indexing.html#returning-a-view-versus-a-copy\n",
      "\n",
      "C:\\Users\\josse\\AppData\\Local\\Temp/ipykernel_48956/3111603952.py:2: SettingWithCopyWarning:\n",
      "\n",
      "\n",
      "A value is trying to be set on a copy of a slice from a DataFrame.\n",
      "Try using .loc[row_indexer,col_indexer] = value instead\n",
      "\n",
      "See the caveats in the documentation: https://pandas.pydata.org/pandas-docs/stable/user_guide/indexing.html#returning-a-view-versus-a-copy\n",
      "\n",
      "C:\\Users\\josse\\AppData\\Local\\Temp/ipykernel_48956/3111603952.py:4: SettingWithCopyWarning:\n",
      "\n",
      "\n",
      "A value is trying to be set on a copy of a slice from a DataFrame.\n",
      "Try using .loc[row_indexer,col_indexer] = value instead\n",
      "\n",
      "See the caveats in the documentation: https://pandas.pydata.org/pandas-docs/stable/user_guide/indexing.html#returning-a-view-versus-a-copy\n",
      "\n",
      "C:\\Users\\josse\\AppData\\Local\\Temp/ipykernel_48956/3111603952.py:5: SettingWithCopyWarning:\n",
      "\n",
      "\n",
      "A value is trying to be set on a copy of a slice from a DataFrame.\n",
      "Try using .loc[row_indexer,col_indexer] = value instead\n",
      "\n",
      "See the caveats in the documentation: https://pandas.pydata.org/pandas-docs/stable/user_guide/indexing.html#returning-a-view-versus-a-copy\n",
      "\n"
     ]
    }
   ],
   "source": [
    "df_pinot['flag'] = False\n",
    "df_chardonnay['flag'] = False\n",
    "\n",
    "df_croix_pinot['flag']= True\n",
    "df_croix_chardonnay['flag']= True\n",
    "\n",
    "df_pinot_concat = pd.concat([df_pinot,df_croix_pinot],axis=0)\n",
    "df_chardonnay_concat = pd.concat([df_chardonnay,df_croix_chardonnay],axis=0)"
   ]
  },
  {
   "cell_type": "code",
   "execution_count": 328,
   "metadata": {},
   "outputs": [],
   "source": [
    "df_pinot_concat['country']=df_pinot_concat['country'].factorize()[0]\n",
    "df_pinot_concat['province']=df_pinot_concat['province'].factorize()[0]\n",
    "df_pinot_concat['region_1']=df_pinot_concat['region_1'].factorize()[0]\n",
    "\n",
    "\n",
    "df_chardonnay_concat['country']=df_chardonnay_concat['country'].factorize()[0]\n",
    "df_chardonnay_concat['province']=df_chardonnay_concat['province'].factorize()[0]\n",
    "df_chardonnay_concat['region_1']=df_chardonnay_concat['region_1'].factorize()[0]"
   ]
  },
  {
   "cell_type": "code",
   "execution_count": 329,
   "metadata": {},
   "outputs": [],
   "source": [
    "df_pinot_train = df_pinot_concat[df_pinot_concat['flag']==False]\n",
    "df_pinot_suggestion =df_pinot_concat[df_pinot_concat['flag']==True]\n",
    "\n",
    "df_chardonnay_train = df_chardonnay_concat[df_chardonnay_concat['flag']==False]\n",
    "df_chardonnay_suggestion =df_chardonnay_concat[df_chardonnay_concat['flag']==True]"
   ]
  },
  {
   "cell_type": "code",
   "execution_count": 330,
   "metadata": {},
   "outputs": [],
   "source": [
    "X_pinot = df_pinot_train.select_dtypes(include='number').drop('price',axis =1)\n",
    "y_pinot = df_pinot_train['price']\n",
    "\n",
    "X_chardonnay = df_chardonnay_train.select_dtypes(include='number').drop('price',axis =1)\n",
    "y_chardonnay = df_chardonnay_train['price']"
   ]
  },
  {
   "cell_type": "code",
   "execution_count": 331,
   "metadata": {},
   "outputs": [],
   "source": [
    "X_pinot_train, X_pinot_test, y_pinot_train, y_pinot_test = train_test_split(X_pinot, y_pinot, random_state=2,train_size = 0.75)\n",
    "X_chardonnay_train, X_chardonnay_test, y_chardonnay_train, y_chardonnay_test = train_test_split(X_chardonnay, y_chardonnay, random_state=2,train_size = 0.75)"
   ]
  },
  {
   "cell_type": "code",
   "execution_count": 332,
   "metadata": {},
   "outputs": [
    {
     "name": "stdout",
     "output_type": "stream",
     "text": [
      "best score: 0.5989158381341155\n",
      "best parameters: {'max_depth': 7}\n"
     ]
    }
   ],
   "source": [
    "dico = {'max_depth' : range(1,50)}\n",
    "grid = GridSearchCV(DecisionTreeRegressor(), dico )\n",
    "grid.fit(X_pinot_train,y_pinot_train)\n",
    "print(\"best score:\",grid.best_score_)\n",
    "print(\"best parameters:\",grid.best_params_)"
   ]
  },
  {
   "cell_type": "code",
   "execution_count": 333,
   "metadata": {},
   "outputs": [
    {
     "name": "stdout",
     "output_type": "stream",
     "text": [
      "best score: 0.6931880169362327\n",
      "best parameters: {'max_depth': 7}\n"
     ]
    }
   ],
   "source": [
    "dico = {'max_depth' : range(1,50)}\n",
    "grid = GridSearchCV(DecisionTreeRegressor(), dico )\n",
    "grid.fit(X_chardonnay_train,y_chardonnay_train)\n",
    "print(\"best score:\",grid.best_score_)\n",
    "print(\"best parameters:\",grid.best_params_)"
   ]
  },
  {
   "cell_type": "code",
   "execution_count": 334,
   "metadata": {},
   "outputs": [
    {
     "data": {
      "text/plain": [
       "DecisionTreeRegressor(max_depth=7)"
      ]
     },
     "execution_count": 334,
     "metadata": {},
     "output_type": "execute_result"
    }
   ],
   "source": [
    "modelDTC_pinot = DecisionTreeRegressor(max_depth=7)\n",
    "modelDTC_pinot.fit(X_pinot_train, y_pinot_train)\n",
    "\n"
   ]
  },
  {
   "cell_type": "code",
   "execution_count": 335,
   "metadata": {},
   "outputs": [
    {
     "data": {
      "text/plain": [
       "DecisionTreeRegressor(max_depth=7)"
      ]
     },
     "execution_count": 335,
     "metadata": {},
     "output_type": "execute_result"
    }
   ],
   "source": [
    "modelDTC_chardonnay = DecisionTreeRegressor(max_depth=7)\n",
    "modelDTC_chardonnay.fit(X_chardonnay_train, y_chardonnay_train)"
   ]
  },
  {
   "cell_type": "code",
   "execution_count": 336,
   "metadata": {},
   "outputs": [],
   "source": [
    "X2_pinot = df_pinot_suggestion.select_dtypes(include='number').drop('price',axis =1)"
   ]
  },
  {
   "cell_type": "code",
   "execution_count": 337,
   "metadata": {},
   "outputs": [],
   "source": [
    "suggestion_pinot = df_croix_pinot.copy()\n",
    "suggestion_pinot['price'] = modelDTC_pinot.predict(X2_pinot)"
   ]
  },
  {
   "cell_type": "code",
   "execution_count": 338,
   "metadata": {},
   "outputs": [
    {
     "name": "stdout",
     "output_type": "stream",
     "text": [
      "121.28069201756524\n"
     ]
    }
   ],
   "source": [
    "print(np.mean(suggestion_pinot['price']))"
   ]
  },
  {
   "cell_type": "code",
   "execution_count": 339,
   "metadata": {},
   "outputs": [
    {
     "data": {
      "application/vnd.plotly.v1+json": {
       "config": {
        "plotlyServerURL": "https://plot.ly"
       },
       "data": [
        {
         "hovertemplate": "points=%{x}<br>price=%{y}<extra></extra>",
         "legendgroup": "",
         "marker": {
          "color": "#636efa",
          "symbol": "circle"
         },
         "mode": "markers",
         "name": "",
         "orientation": "v",
         "showlegend": false,
         "type": "scatter",
         "x": [
          94,
          94,
          90,
          90,
          94,
          90,
          93,
          95,
          95,
          94,
          93,
          92,
          92
         ],
         "xaxis": "x",
         "y": [
          274.55555555555554,
          154.47435897435898,
          57.9064039408867,
          57.9064039408867,
          154.47435897435898,
          57.9064039408867,
          100.13253012048193,
          154.47435897435898,
          154.47435897435898,
          154.47435897435898,
          100.13253012048193,
          77.86868686868686,
          77.86868686868686
         ],
         "yaxis": "y"
        }
       ],
       "layout": {
        "height": 500,
        "legend": {
         "tracegroupgap": 0
        },
        "margin": {
         "t": 60
        },
        "template": {
         "data": {
          "bar": [
           {
            "error_x": {
             "color": "#f2f5fa"
            },
            "error_y": {
             "color": "#f2f5fa"
            },
            "marker": {
             "line": {
              "color": "rgb(17,17,17)",
              "width": 0.5
             },
             "pattern": {
              "fillmode": "overlay",
              "size": 10,
              "solidity": 0.2
             }
            },
            "type": "bar"
           }
          ],
          "barpolar": [
           {
            "marker": {
             "line": {
              "color": "rgb(17,17,17)",
              "width": 0.5
             },
             "pattern": {
              "fillmode": "overlay",
              "size": 10,
              "solidity": 0.2
             }
            },
            "type": "barpolar"
           }
          ],
          "carpet": [
           {
            "aaxis": {
             "endlinecolor": "#A2B1C6",
             "gridcolor": "#506784",
             "linecolor": "#506784",
             "minorgridcolor": "#506784",
             "startlinecolor": "#A2B1C6"
            },
            "baxis": {
             "endlinecolor": "#A2B1C6",
             "gridcolor": "#506784",
             "linecolor": "#506784",
             "minorgridcolor": "#506784",
             "startlinecolor": "#A2B1C6"
            },
            "type": "carpet"
           }
          ],
          "choropleth": [
           {
            "colorbar": {
             "outlinewidth": 0,
             "ticks": ""
            },
            "type": "choropleth"
           }
          ],
          "contour": [
           {
            "colorbar": {
             "outlinewidth": 0,
             "ticks": ""
            },
            "colorscale": [
             [
              0,
              "#0d0887"
             ],
             [
              0.1111111111111111,
              "#46039f"
             ],
             [
              0.2222222222222222,
              "#7201a8"
             ],
             [
              0.3333333333333333,
              "#9c179e"
             ],
             [
              0.4444444444444444,
              "#bd3786"
             ],
             [
              0.5555555555555556,
              "#d8576b"
             ],
             [
              0.6666666666666666,
              "#ed7953"
             ],
             [
              0.7777777777777778,
              "#fb9f3a"
             ],
             [
              0.8888888888888888,
              "#fdca26"
             ],
             [
              1,
              "#f0f921"
             ]
            ],
            "type": "contour"
           }
          ],
          "contourcarpet": [
           {
            "colorbar": {
             "outlinewidth": 0,
             "ticks": ""
            },
            "type": "contourcarpet"
           }
          ],
          "heatmap": [
           {
            "colorbar": {
             "outlinewidth": 0,
             "ticks": ""
            },
            "colorscale": [
             [
              0,
              "#0d0887"
             ],
             [
              0.1111111111111111,
              "#46039f"
             ],
             [
              0.2222222222222222,
              "#7201a8"
             ],
             [
              0.3333333333333333,
              "#9c179e"
             ],
             [
              0.4444444444444444,
              "#bd3786"
             ],
             [
              0.5555555555555556,
              "#d8576b"
             ],
             [
              0.6666666666666666,
              "#ed7953"
             ],
             [
              0.7777777777777778,
              "#fb9f3a"
             ],
             [
              0.8888888888888888,
              "#fdca26"
             ],
             [
              1,
              "#f0f921"
             ]
            ],
            "type": "heatmap"
           }
          ],
          "heatmapgl": [
           {
            "colorbar": {
             "outlinewidth": 0,
             "ticks": ""
            },
            "colorscale": [
             [
              0,
              "#0d0887"
             ],
             [
              0.1111111111111111,
              "#46039f"
             ],
             [
              0.2222222222222222,
              "#7201a8"
             ],
             [
              0.3333333333333333,
              "#9c179e"
             ],
             [
              0.4444444444444444,
              "#bd3786"
             ],
             [
              0.5555555555555556,
              "#d8576b"
             ],
             [
              0.6666666666666666,
              "#ed7953"
             ],
             [
              0.7777777777777778,
              "#fb9f3a"
             ],
             [
              0.8888888888888888,
              "#fdca26"
             ],
             [
              1,
              "#f0f921"
             ]
            ],
            "type": "heatmapgl"
           }
          ],
          "histogram": [
           {
            "marker": {
             "pattern": {
              "fillmode": "overlay",
              "size": 10,
              "solidity": 0.2
             }
            },
            "type": "histogram"
           }
          ],
          "histogram2d": [
           {
            "colorbar": {
             "outlinewidth": 0,
             "ticks": ""
            },
            "colorscale": [
             [
              0,
              "#0d0887"
             ],
             [
              0.1111111111111111,
              "#46039f"
             ],
             [
              0.2222222222222222,
              "#7201a8"
             ],
             [
              0.3333333333333333,
              "#9c179e"
             ],
             [
              0.4444444444444444,
              "#bd3786"
             ],
             [
              0.5555555555555556,
              "#d8576b"
             ],
             [
              0.6666666666666666,
              "#ed7953"
             ],
             [
              0.7777777777777778,
              "#fb9f3a"
             ],
             [
              0.8888888888888888,
              "#fdca26"
             ],
             [
              1,
              "#f0f921"
             ]
            ],
            "type": "histogram2d"
           }
          ],
          "histogram2dcontour": [
           {
            "colorbar": {
             "outlinewidth": 0,
             "ticks": ""
            },
            "colorscale": [
             [
              0,
              "#0d0887"
             ],
             [
              0.1111111111111111,
              "#46039f"
             ],
             [
              0.2222222222222222,
              "#7201a8"
             ],
             [
              0.3333333333333333,
              "#9c179e"
             ],
             [
              0.4444444444444444,
              "#bd3786"
             ],
             [
              0.5555555555555556,
              "#d8576b"
             ],
             [
              0.6666666666666666,
              "#ed7953"
             ],
             [
              0.7777777777777778,
              "#fb9f3a"
             ],
             [
              0.8888888888888888,
              "#fdca26"
             ],
             [
              1,
              "#f0f921"
             ]
            ],
            "type": "histogram2dcontour"
           }
          ],
          "mesh3d": [
           {
            "colorbar": {
             "outlinewidth": 0,
             "ticks": ""
            },
            "type": "mesh3d"
           }
          ],
          "parcoords": [
           {
            "line": {
             "colorbar": {
              "outlinewidth": 0,
              "ticks": ""
             }
            },
            "type": "parcoords"
           }
          ],
          "pie": [
           {
            "automargin": true,
            "type": "pie"
           }
          ],
          "scatter": [
           {
            "marker": {
             "line": {
              "color": "#283442"
             }
            },
            "type": "scatter"
           }
          ],
          "scatter3d": [
           {
            "line": {
             "colorbar": {
              "outlinewidth": 0,
              "ticks": ""
             }
            },
            "marker": {
             "colorbar": {
              "outlinewidth": 0,
              "ticks": ""
             }
            },
            "type": "scatter3d"
           }
          ],
          "scattercarpet": [
           {
            "marker": {
             "colorbar": {
              "outlinewidth": 0,
              "ticks": ""
             }
            },
            "type": "scattercarpet"
           }
          ],
          "scattergeo": [
           {
            "marker": {
             "colorbar": {
              "outlinewidth": 0,
              "ticks": ""
             }
            },
            "type": "scattergeo"
           }
          ],
          "scattergl": [
           {
            "marker": {
             "line": {
              "color": "#283442"
             }
            },
            "type": "scattergl"
           }
          ],
          "scattermapbox": [
           {
            "marker": {
             "colorbar": {
              "outlinewidth": 0,
              "ticks": ""
             }
            },
            "type": "scattermapbox"
           }
          ],
          "scatterpolar": [
           {
            "marker": {
             "colorbar": {
              "outlinewidth": 0,
              "ticks": ""
             }
            },
            "type": "scatterpolar"
           }
          ],
          "scatterpolargl": [
           {
            "marker": {
             "colorbar": {
              "outlinewidth": 0,
              "ticks": ""
             }
            },
            "type": "scatterpolargl"
           }
          ],
          "scatterternary": [
           {
            "marker": {
             "colorbar": {
              "outlinewidth": 0,
              "ticks": ""
             }
            },
            "type": "scatterternary"
           }
          ],
          "surface": [
           {
            "colorbar": {
             "outlinewidth": 0,
             "ticks": ""
            },
            "colorscale": [
             [
              0,
              "#0d0887"
             ],
             [
              0.1111111111111111,
              "#46039f"
             ],
             [
              0.2222222222222222,
              "#7201a8"
             ],
             [
              0.3333333333333333,
              "#9c179e"
             ],
             [
              0.4444444444444444,
              "#bd3786"
             ],
             [
              0.5555555555555556,
              "#d8576b"
             ],
             [
              0.6666666666666666,
              "#ed7953"
             ],
             [
              0.7777777777777778,
              "#fb9f3a"
             ],
             [
              0.8888888888888888,
              "#fdca26"
             ],
             [
              1,
              "#f0f921"
             ]
            ],
            "type": "surface"
           }
          ],
          "table": [
           {
            "cells": {
             "fill": {
              "color": "#506784"
             },
             "line": {
              "color": "rgb(17,17,17)"
             }
            },
            "header": {
             "fill": {
              "color": "#2a3f5f"
             },
             "line": {
              "color": "rgb(17,17,17)"
             }
            },
            "type": "table"
           }
          ]
         },
         "layout": {
          "annotationdefaults": {
           "arrowcolor": "#f2f5fa",
           "arrowhead": 0,
           "arrowwidth": 1
          },
          "autotypenumbers": "strict",
          "coloraxis": {
           "colorbar": {
            "outlinewidth": 0,
            "ticks": ""
           }
          },
          "colorscale": {
           "diverging": [
            [
             0,
             "#8e0152"
            ],
            [
             0.1,
             "#c51b7d"
            ],
            [
             0.2,
             "#de77ae"
            ],
            [
             0.3,
             "#f1b6da"
            ],
            [
             0.4,
             "#fde0ef"
            ],
            [
             0.5,
             "#f7f7f7"
            ],
            [
             0.6,
             "#e6f5d0"
            ],
            [
             0.7,
             "#b8e186"
            ],
            [
             0.8,
             "#7fbc41"
            ],
            [
             0.9,
             "#4d9221"
            ],
            [
             1,
             "#276419"
            ]
           ],
           "sequential": [
            [
             0,
             "#0d0887"
            ],
            [
             0.1111111111111111,
             "#46039f"
            ],
            [
             0.2222222222222222,
             "#7201a8"
            ],
            [
             0.3333333333333333,
             "#9c179e"
            ],
            [
             0.4444444444444444,
             "#bd3786"
            ],
            [
             0.5555555555555556,
             "#d8576b"
            ],
            [
             0.6666666666666666,
             "#ed7953"
            ],
            [
             0.7777777777777778,
             "#fb9f3a"
            ],
            [
             0.8888888888888888,
             "#fdca26"
            ],
            [
             1,
             "#f0f921"
            ]
           ],
           "sequentialminus": [
            [
             0,
             "#0d0887"
            ],
            [
             0.1111111111111111,
             "#46039f"
            ],
            [
             0.2222222222222222,
             "#7201a8"
            ],
            [
             0.3333333333333333,
             "#9c179e"
            ],
            [
             0.4444444444444444,
             "#bd3786"
            ],
            [
             0.5555555555555556,
             "#d8576b"
            ],
            [
             0.6666666666666666,
             "#ed7953"
            ],
            [
             0.7777777777777778,
             "#fb9f3a"
            ],
            [
             0.8888888888888888,
             "#fdca26"
            ],
            [
             1,
             "#f0f921"
            ]
           ]
          },
          "colorway": [
           "#636efa",
           "#EF553B",
           "#00cc96",
           "#ab63fa",
           "#FFA15A",
           "#19d3f3",
           "#FF6692",
           "#B6E880",
           "#FF97FF",
           "#FECB52"
          ],
          "font": {
           "color": "#f2f5fa"
          },
          "geo": {
           "bgcolor": "rgb(17,17,17)",
           "lakecolor": "rgb(17,17,17)",
           "landcolor": "rgb(17,17,17)",
           "showlakes": true,
           "showland": true,
           "subunitcolor": "#506784"
          },
          "hoverlabel": {
           "align": "left"
          },
          "hovermode": "closest",
          "mapbox": {
           "style": "dark"
          },
          "paper_bgcolor": "rgb(17,17,17)",
          "plot_bgcolor": "rgb(17,17,17)",
          "polar": {
           "angularaxis": {
            "gridcolor": "#506784",
            "linecolor": "#506784",
            "ticks": ""
           },
           "bgcolor": "rgb(17,17,17)",
           "radialaxis": {
            "gridcolor": "#506784",
            "linecolor": "#506784",
            "ticks": ""
           }
          },
          "scene": {
           "xaxis": {
            "backgroundcolor": "rgb(17,17,17)",
            "gridcolor": "#506784",
            "gridwidth": 2,
            "linecolor": "#506784",
            "showbackground": true,
            "ticks": "",
            "zerolinecolor": "#C8D4E3"
           },
           "yaxis": {
            "backgroundcolor": "rgb(17,17,17)",
            "gridcolor": "#506784",
            "gridwidth": 2,
            "linecolor": "#506784",
            "showbackground": true,
            "ticks": "",
            "zerolinecolor": "#C8D4E3"
           },
           "zaxis": {
            "backgroundcolor": "rgb(17,17,17)",
            "gridcolor": "#506784",
            "gridwidth": 2,
            "linecolor": "#506784",
            "showbackground": true,
            "ticks": "",
            "zerolinecolor": "#C8D4E3"
           }
          },
          "shapedefaults": {
           "line": {
            "color": "#f2f5fa"
           }
          },
          "sliderdefaults": {
           "bgcolor": "#C8D4E3",
           "bordercolor": "rgb(17,17,17)",
           "borderwidth": 1,
           "tickwidth": 0
          },
          "ternary": {
           "aaxis": {
            "gridcolor": "#506784",
            "linecolor": "#506784",
            "ticks": ""
           },
           "baxis": {
            "gridcolor": "#506784",
            "linecolor": "#506784",
            "ticks": ""
           },
           "bgcolor": "rgb(17,17,17)",
           "caxis": {
            "gridcolor": "#506784",
            "linecolor": "#506784",
            "ticks": ""
           }
          },
          "title": {
           "x": 0.05
          },
          "updatemenudefaults": {
           "bgcolor": "#506784",
           "borderwidth": 0
          },
          "xaxis": {
           "automargin": true,
           "gridcolor": "#283442",
           "linecolor": "#506784",
           "ticks": "",
           "title": {
            "standoff": 15
           },
           "zerolinecolor": "#283442",
           "zerolinewidth": 2
          },
          "yaxis": {
           "automargin": true,
           "gridcolor": "#283442",
           "linecolor": "#506784",
           "ticks": "",
           "title": {
            "standoff": 15
           },
           "zerolinecolor": "#283442",
           "zerolinewidth": 2
          }
         }
        },
        "title": {
         "text": "pinot suggestion : price by points"
        },
        "width": 800,
        "xaxis": {
         "anchor": "y",
         "domain": [
          0,
          1
         ],
         "title": {
          "text": "points"
         }
        },
        "yaxis": {
         "anchor": "x",
         "domain": [
          0,
          1
         ],
         "title": {
          "text": "price"
         }
        }
       }
      }
     },
     "metadata": {},
     "output_type": "display_data"
    }
   ],
   "source": [
    "fig_pinot = px.scatter(data_frame=suggestion_pinot,x='points',y='price')\n",
    "\n",
    "fig_pinot.update_layout(template='plotly_dark', title='pinot suggestion : price by points' ,height = 500,width=800)\n",
    "fig_pinot.show()"
   ]
  },
  {
   "cell_type": "code",
   "execution_count": 340,
   "metadata": {},
   "outputs": [
    {
     "data": {
      "text/html": [
       "<div>\n",
       "<style scoped>\n",
       "    .dataframe tbody tr th:only-of-type {\n",
       "        vertical-align: middle;\n",
       "    }\n",
       "\n",
       "    .dataframe tbody tr th {\n",
       "        vertical-align: top;\n",
       "    }\n",
       "\n",
       "    .dataframe thead th {\n",
       "        text-align: right;\n",
       "    }\n",
       "</style>\n",
       "<table border=\"1\" class=\"dataframe\">\n",
       "  <thead>\n",
       "    <tr style=\"text-align: right;\">\n",
       "      <th></th>\n",
       "      <th>country</th>\n",
       "      <th>description</th>\n",
       "      <th>designation</th>\n",
       "      <th>points</th>\n",
       "      <th>price</th>\n",
       "      <th>province</th>\n",
       "      <th>region_1</th>\n",
       "      <th>region_2</th>\n",
       "      <th>taster_name</th>\n",
       "      <th>taster_twitter_handle</th>\n",
       "      <th>title</th>\n",
       "      <th>variety</th>\n",
       "      <th>winery</th>\n",
       "      <th>year</th>\n",
       "      <th>flag</th>\n",
       "    </tr>\n",
       "  </thead>\n",
       "  <tbody>\n",
       "    <tr>\n",
       "      <th>0</th>\n",
       "      <td>France</td>\n",
       "      <td>Firm and solid with great swathes of black fru...</td>\n",
       "      <td>NaN</td>\n",
       "      <td>94</td>\n",
       "      <td>274.555556</td>\n",
       "      <td>Burgundy</td>\n",
       "      <td>Corton Grèves</td>\n",
       "      <td>NaN</td>\n",
       "      <td>Roger Voss</td>\n",
       "      <td>@vossroger</td>\n",
       "      <td>Domaine des Croix 2016  Corton Grèves</td>\n",
       "      <td>Pinot Noir</td>\n",
       "      <td>Domaine des Croix</td>\n",
       "      <td>2016</td>\n",
       "      <td>True</td>\n",
       "    </tr>\n",
       "    <tr>\n",
       "      <th>1</th>\n",
       "      <td>France</td>\n",
       "      <td>A rich wine with great fruits as well as struc...</td>\n",
       "      <td>La Vigne au Saint</td>\n",
       "      <td>94</td>\n",
       "      <td>154.474359</td>\n",
       "      <td>Burgundy</td>\n",
       "      <td>Corton</td>\n",
       "      <td>NaN</td>\n",
       "      <td>Roger Voss</td>\n",
       "      <td>@vossroger</td>\n",
       "      <td>Domaine des Croix 2017 La Vigne au Saint  (Cor...</td>\n",
       "      <td>Pinot Noir</td>\n",
       "      <td>Domaine des Croix</td>\n",
       "      <td>2017</td>\n",
       "      <td>True</td>\n",
       "    </tr>\n",
       "    <tr>\n",
       "      <th>2</th>\n",
       "      <td>France</td>\n",
       "      <td>A perfumed village wine, this is made from fou...</td>\n",
       "      <td>NaN</td>\n",
       "      <td>90</td>\n",
       "      <td>57.906404</td>\n",
       "      <td>Burgundy</td>\n",
       "      <td>Beaune</td>\n",
       "      <td>NaN</td>\n",
       "      <td>Roger Voss</td>\n",
       "      <td>@vossroger</td>\n",
       "      <td>Domaine des Croix 2016  Beaune</td>\n",
       "      <td>Pinot Noir</td>\n",
       "      <td>Domaine des Croix</td>\n",
       "      <td>2016</td>\n",
       "      <td>True</td>\n",
       "    </tr>\n",
       "    <tr>\n",
       "      <th>3</th>\n",
       "      <td>France</td>\n",
       "      <td>A structured wine, packed with red fruits and ...</td>\n",
       "      <td>NaN</td>\n",
       "      <td>90</td>\n",
       "      <td>57.906404</td>\n",
       "      <td>Burgundy</td>\n",
       "      <td>Beaune</td>\n",
       "      <td>NaN</td>\n",
       "      <td>Roger Voss</td>\n",
       "      <td>@vossroger</td>\n",
       "      <td>Domaine des Croix 2019  Beaune</td>\n",
       "      <td>Pinot Noir</td>\n",
       "      <td>Domaine des Croix</td>\n",
       "      <td>2019</td>\n",
       "      <td>True</td>\n",
       "    </tr>\n",
       "    <tr>\n",
       "      <th>4</th>\n",
       "      <td>France</td>\n",
       "      <td>This wine is perfumed with cherries and red be...</td>\n",
       "      <td>Les Grèves Premier Cru</td>\n",
       "      <td>94</td>\n",
       "      <td>154.474359</td>\n",
       "      <td>Burgundy</td>\n",
       "      <td>Beaune</td>\n",
       "      <td>NaN</td>\n",
       "      <td>Roger Voss</td>\n",
       "      <td>@vossroger</td>\n",
       "      <td>Domaine des Croix 2017 Les Grèves Premier Cru ...</td>\n",
       "      <td>Pinot Noir</td>\n",
       "      <td>Domaine des Croix</td>\n",
       "      <td>2017</td>\n",
       "      <td>True</td>\n",
       "    </tr>\n",
       "    <tr>\n",
       "      <th>5</th>\n",
       "      <td>France</td>\n",
       "      <td>A structured wine, packed with red fruits and ...</td>\n",
       "      <td>NaN</td>\n",
       "      <td>90</td>\n",
       "      <td>57.906404</td>\n",
       "      <td>Burgundy</td>\n",
       "      <td>Beaune</td>\n",
       "      <td>NaN</td>\n",
       "      <td>Roger Voss</td>\n",
       "      <td>@vossroger</td>\n",
       "      <td>Domaine des Croix 2015  Beaune</td>\n",
       "      <td>Pinot Noir</td>\n",
       "      <td>Domaine des Croix</td>\n",
       "      <td>2015</td>\n",
       "      <td>True</td>\n",
       "    </tr>\n",
       "    <tr>\n",
       "      <th>6</th>\n",
       "      <td>France</td>\n",
       "      <td>While this wine is firm, with some fine tannin...</td>\n",
       "      <td>Les Cent-Vignes Premier Cru</td>\n",
       "      <td>93</td>\n",
       "      <td>100.132530</td>\n",
       "      <td>Burgundy</td>\n",
       "      <td>Beaune</td>\n",
       "      <td>NaN</td>\n",
       "      <td>Roger Voss</td>\n",
       "      <td>@vossroger</td>\n",
       "      <td>Domaine des Croix 2018 Les Cent-Vignes Premier...</td>\n",
       "      <td>Pinot Noir</td>\n",
       "      <td>Domaine des Croix</td>\n",
       "      <td>2018</td>\n",
       "      <td>True</td>\n",
       "    </tr>\n",
       "    <tr>\n",
       "      <th>7</th>\n",
       "      <td>France</td>\n",
       "      <td>This wine has a smoky character that gives an ...</td>\n",
       "      <td>Grèves</td>\n",
       "      <td>95</td>\n",
       "      <td>154.474359</td>\n",
       "      <td>Burgundy</td>\n",
       "      <td>Corton</td>\n",
       "      <td>NaN</td>\n",
       "      <td>Roger Voss</td>\n",
       "      <td>@vossroger</td>\n",
       "      <td>Domaine des Croix 2016 Grèves  (Corton)</td>\n",
       "      <td>Pinot Noir</td>\n",
       "      <td>Domaine des Croix</td>\n",
       "      <td>2016</td>\n",
       "      <td>True</td>\n",
       "    </tr>\n",
       "    <tr>\n",
       "      <th>8</th>\n",
       "      <td>France</td>\n",
       "      <td>Dark fruit backs up the dense, dark and firm c...</td>\n",
       "      <td>La Vigne au Saint</td>\n",
       "      <td>95</td>\n",
       "      <td>154.474359</td>\n",
       "      <td>Burgundy</td>\n",
       "      <td>Corton</td>\n",
       "      <td>NaN</td>\n",
       "      <td>Roger Voss</td>\n",
       "      <td>@vossroger</td>\n",
       "      <td>Domaine des Croix 2018 La Vigne au Saint  (Cor...</td>\n",
       "      <td>Pinot Noir</td>\n",
       "      <td>Domaine des Croix</td>\n",
       "      <td>2018</td>\n",
       "      <td>True</td>\n",
       "    </tr>\n",
       "    <tr>\n",
       "      <th>9</th>\n",
       "      <td>France</td>\n",
       "      <td>A fine, mineral, structured wine with a very d...</td>\n",
       "      <td>Bressandes Premier Cru</td>\n",
       "      <td>94</td>\n",
       "      <td>154.474359</td>\n",
       "      <td>Burgundy</td>\n",
       "      <td>Beaune</td>\n",
       "      <td>NaN</td>\n",
       "      <td>Roger Voss</td>\n",
       "      <td>@vossroger</td>\n",
       "      <td>Domaine des Croix 2019 Bressandes Premier Cru ...</td>\n",
       "      <td>Pinot Noir</td>\n",
       "      <td>Domaine des Croix</td>\n",
       "      <td>2019</td>\n",
       "      <td>True</td>\n",
       "    </tr>\n",
       "    <tr>\n",
       "      <th>10</th>\n",
       "      <td>France</td>\n",
       "      <td>From one of the top Beaune premier-cru vineyar...</td>\n",
       "      <td>Les Bressandes Premier Cru</td>\n",
       "      <td>93</td>\n",
       "      <td>100.132530</td>\n",
       "      <td>Burgundy</td>\n",
       "      <td>Beaune</td>\n",
       "      <td>NaN</td>\n",
       "      <td>Roger Voss</td>\n",
       "      <td>@vossroger</td>\n",
       "      <td>Domaine des Croix 2018 Les Bressandes Premier ...</td>\n",
       "      <td>Pinot Noir</td>\n",
       "      <td>Domaine des Croix</td>\n",
       "      <td>2018</td>\n",
       "      <td>True</td>\n",
       "    </tr>\n",
       "    <tr>\n",
       "      <th>11</th>\n",
       "      <td>France</td>\n",
       "      <td>Made from fruit sourced from a small premier c...</td>\n",
       "      <td>Pertuisots Premier Cru</td>\n",
       "      <td>92</td>\n",
       "      <td>77.868687</td>\n",
       "      <td>Burgundy</td>\n",
       "      <td>Beaune</td>\n",
       "      <td>NaN</td>\n",
       "      <td>Roger Voss</td>\n",
       "      <td>@vossroger</td>\n",
       "      <td>Domaine des Croix 2014 Pertuisots Premier Cru ...</td>\n",
       "      <td>Pinot Noir</td>\n",
       "      <td>Domaine des Croix</td>\n",
       "      <td>2014</td>\n",
       "      <td>True</td>\n",
       "    </tr>\n",
       "    <tr>\n",
       "      <th>13</th>\n",
       "      <td>France</td>\n",
       "      <td>This wine has firm tannins and a dry, structur...</td>\n",
       "      <td>Les Peuillets Premier Cru</td>\n",
       "      <td>92</td>\n",
       "      <td>77.868687</td>\n",
       "      <td>Burgundy</td>\n",
       "      <td>Savigny-lès-Beaune</td>\n",
       "      <td>NaN</td>\n",
       "      <td>Roger Voss</td>\n",
       "      <td>@vossroger</td>\n",
       "      <td>Domaine des Croix 2018 Les Peuillets Premier C...</td>\n",
       "      <td>Pinot Noir</td>\n",
       "      <td>Domaine des Croix</td>\n",
       "      <td>2018</td>\n",
       "      <td>True</td>\n",
       "    </tr>\n",
       "  </tbody>\n",
       "</table>\n",
       "</div>"
      ],
      "text/plain": [
       "   country                                        description  \\\n",
       "0   France  Firm and solid with great swathes of black fru...   \n",
       "1   France  A rich wine with great fruits as well as struc...   \n",
       "2   France  A perfumed village wine, this is made from fou...   \n",
       "3   France  A structured wine, packed with red fruits and ...   \n",
       "4   France  This wine is perfumed with cherries and red be...   \n",
       "5   France  A structured wine, packed with red fruits and ...   \n",
       "6   France  While this wine is firm, with some fine tannin...   \n",
       "7   France  This wine has a smoky character that gives an ...   \n",
       "8   France  Dark fruit backs up the dense, dark and firm c...   \n",
       "9   France  A fine, mineral, structured wine with a very d...   \n",
       "10  France  From one of the top Beaune premier-cru vineyar...   \n",
       "11  France  Made from fruit sourced from a small premier c...   \n",
       "13  France  This wine has firm tannins and a dry, structur...   \n",
       "\n",
       "                    designation  points       price  province  \\\n",
       "0                           NaN      94  274.555556  Burgundy   \n",
       "1             La Vigne au Saint      94  154.474359  Burgundy   \n",
       "2                           NaN      90   57.906404  Burgundy   \n",
       "3                           NaN      90   57.906404  Burgundy   \n",
       "4        Les Grèves Premier Cru      94  154.474359  Burgundy   \n",
       "5                           NaN      90   57.906404  Burgundy   \n",
       "6   Les Cent-Vignes Premier Cru      93  100.132530  Burgundy   \n",
       "7                        Grèves      95  154.474359  Burgundy   \n",
       "8             La Vigne au Saint      95  154.474359  Burgundy   \n",
       "9        Bressandes Premier Cru      94  154.474359  Burgundy   \n",
       "10   Les Bressandes Premier Cru      93  100.132530  Burgundy   \n",
       "11       Pertuisots Premier Cru      92   77.868687  Burgundy   \n",
       "13    Les Peuillets Premier Cru      92   77.868687  Burgundy   \n",
       "\n",
       "              region_1  region_2 taster_name taster_twitter_handle  \\\n",
       "0        Corton Grèves       NaN  Roger Voss            @vossroger   \n",
       "1               Corton       NaN  Roger Voss            @vossroger   \n",
       "2               Beaune       NaN  Roger Voss            @vossroger   \n",
       "3               Beaune       NaN  Roger Voss            @vossroger   \n",
       "4               Beaune       NaN  Roger Voss            @vossroger   \n",
       "5               Beaune       NaN  Roger Voss            @vossroger   \n",
       "6               Beaune       NaN  Roger Voss            @vossroger   \n",
       "7               Corton       NaN  Roger Voss            @vossroger   \n",
       "8               Corton       NaN  Roger Voss            @vossroger   \n",
       "9               Beaune       NaN  Roger Voss            @vossroger   \n",
       "10              Beaune       NaN  Roger Voss            @vossroger   \n",
       "11              Beaune       NaN  Roger Voss            @vossroger   \n",
       "13  Savigny-lès-Beaune       NaN  Roger Voss            @vossroger   \n",
       "\n",
       "                                                title     variety  \\\n",
       "0               Domaine des Croix 2016  Corton Grèves  Pinot Noir   \n",
       "1   Domaine des Croix 2017 La Vigne au Saint  (Cor...  Pinot Noir   \n",
       "2                      Domaine des Croix 2016  Beaune  Pinot Noir   \n",
       "3                      Domaine des Croix 2019  Beaune  Pinot Noir   \n",
       "4   Domaine des Croix 2017 Les Grèves Premier Cru ...  Pinot Noir   \n",
       "5                      Domaine des Croix 2015  Beaune  Pinot Noir   \n",
       "6   Domaine des Croix 2018 Les Cent-Vignes Premier...  Pinot Noir   \n",
       "7             Domaine des Croix 2016 Grèves  (Corton)  Pinot Noir   \n",
       "8   Domaine des Croix 2018 La Vigne au Saint  (Cor...  Pinot Noir   \n",
       "9   Domaine des Croix 2019 Bressandes Premier Cru ...  Pinot Noir   \n",
       "10  Domaine des Croix 2018 Les Bressandes Premier ...  Pinot Noir   \n",
       "11  Domaine des Croix 2014 Pertuisots Premier Cru ...  Pinot Noir   \n",
       "13  Domaine des Croix 2018 Les Peuillets Premier C...  Pinot Noir   \n",
       "\n",
       "               winery  year  flag  \n",
       "0   Domaine des Croix  2016  True  \n",
       "1   Domaine des Croix  2017  True  \n",
       "2   Domaine des Croix  2016  True  \n",
       "3   Domaine des Croix  2019  True  \n",
       "4   Domaine des Croix  2017  True  \n",
       "5   Domaine des Croix  2015  True  \n",
       "6   Domaine des Croix  2018  True  \n",
       "7   Domaine des Croix  2016  True  \n",
       "8   Domaine des Croix  2018  True  \n",
       "9   Domaine des Croix  2019  True  \n",
       "10  Domaine des Croix  2018  True  \n",
       "11  Domaine des Croix  2014  True  \n",
       "13  Domaine des Croix  2018  True  "
      ]
     },
     "execution_count": 340,
     "metadata": {},
     "output_type": "execute_result"
    }
   ],
   "source": [
    "suggestion_pinot"
   ]
  },
  {
   "cell_type": "code",
   "execution_count": 341,
   "metadata": {},
   "outputs": [],
   "source": [
    "X2_chardonnay = df_chardonnay_suggestion.select_dtypes(include='number').drop('price',axis =1)\n",
    "suggestion_chardonnay = df_croix_chardonnay.copy()\n",
    "suggestion_chardonnay['price'] = modelDTC_chardonnay.predict(X2_chardonnay)"
   ]
  },
  {
   "cell_type": "code",
   "execution_count": 342,
   "metadata": {},
   "outputs": [
    {
     "data": {
      "text/html": [
       "<div>\n",
       "<style scoped>\n",
       "    .dataframe tbody tr th:only-of-type {\n",
       "        vertical-align: middle;\n",
       "    }\n",
       "\n",
       "    .dataframe tbody tr th {\n",
       "        vertical-align: top;\n",
       "    }\n",
       "\n",
       "    .dataframe thead th {\n",
       "        text-align: right;\n",
       "    }\n",
       "</style>\n",
       "<table border=\"1\" class=\"dataframe\">\n",
       "  <thead>\n",
       "    <tr style=\"text-align: right;\">\n",
       "      <th></th>\n",
       "      <th>country</th>\n",
       "      <th>description</th>\n",
       "      <th>designation</th>\n",
       "      <th>points</th>\n",
       "      <th>price</th>\n",
       "      <th>province</th>\n",
       "      <th>region_1</th>\n",
       "      <th>region_2</th>\n",
       "      <th>taster_name</th>\n",
       "      <th>taster_twitter_handle</th>\n",
       "      <th>title</th>\n",
       "      <th>variety</th>\n",
       "      <th>winery</th>\n",
       "      <th>year</th>\n",
       "      <th>flag</th>\n",
       "    </tr>\n",
       "  </thead>\n",
       "  <tbody>\n",
       "    <tr>\n",
       "      <th>12</th>\n",
       "      <td>France</td>\n",
       "      <td>A dry, mineral wine, hiding its potential rich...</td>\n",
       "      <td>NaN</td>\n",
       "      <td>95</td>\n",
       "      <td>216.807692</td>\n",
       "      <td>Burgundy</td>\n",
       "      <td>Corton-Charlemagne</td>\n",
       "      <td>NaN</td>\n",
       "      <td>Roger Voss</td>\n",
       "      <td>@vossroger</td>\n",
       "      <td>Domaine des Croix 2014  Corton-Charlemagne</td>\n",
       "      <td>Chardonnay</td>\n",
       "      <td>Domaine des Croix</td>\n",
       "      <td>2014</td>\n",
       "      <td>True</td>\n",
       "    </tr>\n",
       "  </tbody>\n",
       "</table>\n",
       "</div>"
      ],
      "text/plain": [
       "   country                                        description designation  \\\n",
       "12  France  A dry, mineral wine, hiding its potential rich...         NaN   \n",
       "\n",
       "    points       price  province            region_1  region_2 taster_name  \\\n",
       "12      95  216.807692  Burgundy  Corton-Charlemagne       NaN  Roger Voss   \n",
       "\n",
       "   taster_twitter_handle                                       title  \\\n",
       "12            @vossroger  Domaine des Croix 2014  Corton-Charlemagne   \n",
       "\n",
       "       variety             winery  year  flag  \n",
       "12  Chardonnay  Domaine des Croix  2014  True  "
      ]
     },
     "execution_count": 342,
     "metadata": {},
     "output_type": "execute_result"
    }
   ],
   "source": [
    "suggestion_chardonnay"
   ]
  }
 ],
 "metadata": {
  "interpreter": {
   "hash": "be0acc8b5e9c514370efa701a19078e441337db182ef74130e57d9d0b7902eba"
  },
  "kernelspec": {
   "display_name": "Python 3.8.12 64-bit ('base': conda)",
   "language": "python",
   "name": "python3"
  },
  "language_info": {
   "codemirror_mode": {
    "name": "ipython",
    "version": 3
   },
   "file_extension": ".py",
   "mimetype": "text/x-python",
   "name": "python",
   "nbconvert_exporter": "python",
   "pygments_lexer": "ipython3",
   "version": "3.8.12"
  },
  "orig_nbformat": 4
 },
 "nbformat": 4,
 "nbformat_minor": 2
}
